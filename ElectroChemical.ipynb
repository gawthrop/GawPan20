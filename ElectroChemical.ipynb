{
 "cells": [
  {
   "cell_type": "markdown",
   "metadata": {},
   "source": [
    "***Note:***\n",
    "\n",
    "- This example is discussed in detail by \n",
    "    <cite data-cite=\"GawPan20X\">Gawthrop and Pan (2020)</cite> \n",
    "    available [here](https://arxiv.org/abs/2009.02217).\n",
    "\n",
    "- This is the ElectroChemical.ipynb notebook. The\n",
    "PDF version\n",
    "is available [here](Electrochemical.pdf).\n"
   ]
  },
  {
   "cell_type": "markdown",
   "metadata": {},
   "source": [
    "# Introduction\n",
    "## Faraday equivalent potential\n",
    "The bond graph approach uses the notion of energy covariables: a pair\n",
    "of variables whose product is power. Thus, for example, electrical\n",
    "systems have voltage (with units \\si{\\volt}) and current (with units\n",
    "\\si{\\ampere}) as covariables and the product has units of power\n",
    "(\\si{\\watt} or \\si{\\joule\\per\\second}). Chemical system covariables\n",
    "are chemical potential $\\mu$ (with units \\si{\\joule\\per\\coulomb}) and\n",
    "molar flow $f$ (with units\n",
    "\\si{\\mole\\per\\second})\\citep{OstPerKat71,OstPerKat73,GawCra14}; again\n",
    "the product has units of power (\\si{\\watt} or \\si{\\joule\\per\\second}).\n",
    "\n",
    "The commonality of power over different physical domains makes the\n",
    "bond graph approach particularly appropriate to model multi-domain\n",
    "systems, in particular chemoelectrical systems\n",
    "\\citep{GawSieKam17}. Noting that the conversion factor relating the\n",
    "electrical and chemical domains is \\emph{Faraday's constant}\n",
    "$F\\approx\\SI{96485}{C.mol^{-1}}$. As discussed by \\citet{Kar90}\n",
    "and \\citet{GawSieKam17}, this conversion can be represented by the\n",
    "bond graph transformer (**TF**) component. An alternative approach\n",
    "introduced by \\citet{Gaw17a} is to divide the covariables $\\mu$ and\n",
    "$f$ by $F$ to give the pair of covariables $\\phi$ and $f$\n",
    "where:\n",
    "\\begin{align}\n",
    "  &\\text{Faraday-equivalent chemical potential}& \\phi &= \\frac{\\mu}{F} \\si{\\volt}\\label{eq:phi}\\\\   &\\text{Faraday-equivalent flow}& f &= F v \\si{\\ampere}\\label{eq:f} \n",
    "\\end{align}\n",
    "  \n",
    "## Chemical properties\n",
    "The **Ce** components representing chemical species generate Faraday-equivalent potential (FEP) $\\phi$ (measured in Volts) in terms of the amount of species $x$ as:\n",
    "\\begin{align}\n",
    "\\phi &= \\phi^\\ominus + \\phi_N \\ln \\frac{x}{x^\\ominus}\\\\\n",
    "&= \\phi_N \\ln K x\\\\\n",
    "\\text{where }\n",
    "K &= \\frac{K^\\ominus}{x^\\ominus}\\\\\n",
    "V_N &= \\frac{RT}{F} \\approx 26 mV\\\\\n",
    "\\text{and }\n",
    "K^\\ominus &= \\ln\\frac{\\phi^\\ominus}{\\phi_N}\n",
    "\\end{align}\n",
    "$\\phi^\\ominus$ in the standard potential at the standard amount $x^\\ominus$.\n",
    "$R$ is the universal gas constant and $F$ Faraday's constant.\n",
    "\n",
    "The amount of species $x$ is the integral of the species flow $f$:\n",
    "\\begin{equation}\n",
    "x = \\int^t f(\\tau)d\\tau\n",
    "\\end{equation}\n",
    "\n",
    "The formula can also be expressed in terms of concentration $c$ as:\n",
    "\\begin{align}\n",
    "\\phi &= \\phi_N \\ln K_C^\\prime c\\\\\n",
    "\\text{where }\n",
    "K_c^\\prime &= \\frac{K^\\ominus}{c^\\ominus}\\\\\n",
    "\\end{align}\n",
    "$c^\\ominus$ is the concentration at standard conditions.\n",
    "## Electrical properties\n",
    "The **C** components representing electrical capacitance generate electrical potential $\\phi$ (measured in Volts) in terms of the amount of positively charges $x$ and electrical capacitance $C$ as:\n",
    "\\begin{align}\n",
    "\\phi &= \\frac{x}{C}\\\\\n",
    "&= \\phi_N K_E x_E\\\\\n",
    "\\text{where }\n",
    "K_E &= \\frac{1}{x_N}\\\\\n",
    "\\text{and }\n",
    "x_N &= C\\phi_N \n",
    "\\end{align}\n",
    "The amount of charge $x_E$ is the integral of the charge flow (current) $f_E$:\n",
    "\\begin{equation}\n",
    "x_E = \\int^t f_E(\\tau)d\\tau\n",
    "\\end{equation}"
   ]
  },
  {
   "cell_type": "code",
   "execution_count": 1,
   "metadata": {
    "scrolled": true
   },
   "outputs": [],
   "source": [
    "## Some useful imports\n",
    "import BondGraphTools as bgt\n",
    "import numpy as np\n",
    "import sympy as sp\n",
    "import matplotlib.pyplot as plt\n",
    "\n",
    "## Stoichiometric analysis\n",
    "import stoich as st\n",
    "\n",
    "## SVG\n",
    "import svgBondGraph as sbg\n",
    "\n",
    "## Display (eg disp.SVG(), disp.\n",
    "import IPython.display as disp\n",
    "\n",
    "quiet = True\n",
    "\n",
    "## Fix the concentrations via chemostats\n",
    "Fix_conc = False"
   ]
  },
  {
   "cell_type": "code",
   "execution_count": 2,
   "metadata": {},
   "outputs": [],
   "source": [
    "## Concentrations in nM for Na and K in Giant Squid Axon\n",
    "## From Keener & Sneyd Table 2.1\n",
    "conc_e = {'Na':437, 'K':20}\n",
    "conc_i = {'Na':50, 'K':397}"
   ]
  },
  {
   "cell_type": "markdown",
   "metadata": {},
   "source": [
    "# Electrodiffusion\n",
    "Cellular membranes have pores though which chemical species can diffuse. If the species are charged, the diffusion both depends on and creates an electrical potential.\n",
    "This section looks at a single ionic species with generic name \\ch{I+}; this can be thought of as \\ch{Na+} or \\ch{K+}.\n",
    "\n",
    "The bond graph representation of a charged ion has three components: a **Ce** component to represent the *chemical* properties of the ion, a **C** component to repesent the *electrical*   properties of the ion and a **1** junction to make the flow into the two components identical.\n",
    "\n",
    "The resultant potential is then the sum of the chemical and electrical components:\n",
    "\\begin{align}\n",
    "\\phi &= \\phi_C + \\phi_E\\\\\n",
    "\\text{where }\n",
    "\\phi_C &= \\phi_N \\ln K x\\\\\n",
    "\\text{and }\n",
    "\\phi_E = \\phi_N K_E x_E\n",
    "\\end{align}\n",
    "\n",
    "If the ion has *two* charges (\\ch{I^{++}}) the bold bonds in the diagram would each be replaced by *two* bonds; alternatively, if the ion had a *negative*  charge (\\ch{I-}) the bold bonds in the diagram would each be replaced by a bond with *reversed* direction.\n",
    "\n",
    "The bond graph of the pore itself has two pools of charged ions: internal and external connected by a reaction (**Re**) component. As the ion in each pool is the same, the property $K^\\prime$ is the same for each pool. Thus the reaction potential $\\Phi$ is the difference of the potentials of the internal and external ion pools:\n",
    "\\begin{equation}\n",
    "\\Phi = \\phi_N \\left ( \\ln K^\\prime c_i - \\ln K^\\prime c_e \\right )\n",
    "+ \\left ( \\phi_{Ei} - \\phi_{Ee} \\right ) \n",
    "\\end{equation}\n",
    "Defining $\\Delta E = \\phi_{Ei} - \\phi_{Ee}$ and noting that at equilibrium $\\Phi=0$:\n",
    "\\begin{equation}\n",
    "\\Delta E = \\phi_N \\ln\\frac{c_e}{c_i}\n",
    "\\end{equation}\n",
    "This is the expresion for the *Nernst potential* for a species with a single positive charge."
   ]
  },
  {
   "cell_type": "code",
   "execution_count": 3,
   "metadata": {},
   "outputs": [
    {
     "data": {
      "image/svg+xml": [
       "<svg xmlns=\"http://www.w3.org/2000/svg\" xmlns:xlink=\"http://www.w3.org/1999/xlink\" width=\"229pt\" height=\"371pt\" viewBox=\"1788 663 3624 5874\">\n",
       "<g fill=\"none\">\n",
       "<!-- Line -->\n",
       "<rect x=\"1800\" y=\"675\" width=\"3600\" height=\"5850\" rx=\"105\" stroke=\"#ffd600\" stroke-width=\"8px\"/>\n",
       "<!-- Text -->\n",
       "<text xml:space=\"preserve\" x=\"4725\" y=\"3600\" fill=\"#0000ff\" font-family=\"Times\" font-style=\"italic\" font-weight=\"bold\" font-size=\"240\" text-anchor=\"middle\">External</text>\n",
       "<!-- Text -->\n",
       "<text xml:space=\"preserve\" x=\"2475\" y=\"1125\" fill=\"#0000ff\" font-family=\"Times\" font-style=\"italic\" font-weight=\"bold\" font-size=\"240\" text-anchor=\"middle\">Chemical</text>\n",
       "<!-- Text -->\n",
       "<text xml:space=\"preserve\" x=\"4725\" y=\"1125\" fill=\"#0000ff\" font-family=\"Times\" font-style=\"italic\" font-weight=\"bold\" font-size=\"240\" text-anchor=\"middle\">Electrical</text>\n",
       "<!-- Text -->\n",
       "<text xml:space=\"preserve\" x=\"4725\" y=\"4275\" fill=\"#0000ff\" font-family=\"Times\" font-style=\"italic\" font-weight=\"bold\" font-size=\"240\" text-anchor=\"middle\">Internal</text>\n",
       "<!-- Text -->\n",
       "<text xml:space=\"preserve\" x=\"3600\" y=\"3915\" fill=\"#000000\" font-family=\"Helvetica\" font-style=\"normal\" font-weight=\"bold\" font-size=\"216\" text-anchor=\"middle\">Re:r</text>\n",
       "<!-- Text -->\n",
       "<text xml:space=\"preserve\" x=\"3600\" y=\"2820\" fill=\"#000000\" font-family=\"Helvetica\" font-style=\"normal\" font-weight=\"bold\" font-size=\"216\" text-anchor=\"middle\">1</text>\n",
       "<!-- Text -->\n",
       "<text xml:space=\"preserve\" x=\"2475\" y=\"1650\" fill=\"#000000\" font-family=\"Helvetica\" font-style=\"normal\" font-weight=\"bold\" font-size=\"216\" text-anchor=\"middle\">C:Ie</text>\n",
       "<!-- Text -->\n",
       "<text xml:space=\"preserve\" x=\"4725\" y=\"1650\" fill=\"#000000\" font-family=\"Helvetica\" font-style=\"normal\" font-weight=\"bold\" font-size=\"216\" text-anchor=\"middle\">C:Ee</text>\n",
       "<!-- Text -->\n",
       "<text xml:space=\"preserve\" x=\"3600\" y=\"5040\" fill=\"#000000\" font-family=\"Helvetica\" font-style=\"normal\" font-weight=\"bold\" font-size=\"216\" text-anchor=\"middle\">1</text>\n",
       "<!-- Text -->\n",
       "<text xml:space=\"preserve\" x=\"4725\" y=\"6150\" fill=\"#000000\" font-family=\"Helvetica\" font-style=\"normal\" font-weight=\"bold\" font-size=\"216\" text-anchor=\"middle\">C:Ei</text>\n",
       "<!-- Text -->\n",
       "<text xml:space=\"preserve\" x=\"2475\" y=\"6165\" fill=\"#000000\" font-family=\"Helvetica\" font-style=\"normal\" font-weight=\"bold\" font-size=\"216\" text-anchor=\"middle\">C:Ii</text>\n",
       "<!-- Line -->\n",
       "<polyline points=\" 4050,3825 5400,3825\" stroke=\"#0000ff\" stroke-width=\"8px\" stroke-dasharray=\"40 40\"/>\n",
       "<!-- Line -->\n",
       "<polyline points=\" 3600,900 3600,2475\" stroke=\"#0000ff\" stroke-width=\"8px\" stroke-dasharray=\"40 40\"/>\n",
       "<!-- Line -->\n",
       "<polyline points=\" 3600,5175 3600,6300\" stroke=\"#0000ff\" stroke-width=\"8px\" stroke-dasharray=\"40 40\"/>\n",
       "<!-- Line -->\n",
       "<polyline points=\" 1800,3825 3150,3825\" stroke=\"#0000ff\" stroke-width=\"8px\" stroke-dasharray=\"40 40\"/>\n",
       "<!-- Line -->\n",
       "<polyline points=\" 3600,3600 3600,2925 3825,3150\" stroke=\"#000000\" stroke-width=\"15px\"/>\n",
       "<!-- Line -->\n",
       "<polyline points=\" 4500,5850 3825,5175 3825,5400\" stroke=\"#000000\" stroke-width=\"15px\"/>\n",
       "<!-- Line -->\n",
       "<polyline points=\" 3600,4725 3600,4050 3825,4275\" stroke=\"#000000\" stroke-width=\"15px\"/>\n",
       "<!-- Line -->\n",
       "<polyline points=\" 3375,2475 2700,1800 2700,2025\" stroke=\"#000000\" stroke-width=\"15px\"/>\n",
       "<!-- Line -->\n",
       "<polyline points=\" 3825,2475 4500,1800 4500,2025\" stroke=\"#000000\" stroke-width=\"15px\"/>\n",
       "<!-- Line -->\n",
       "<polyline points=\" 2700,5850 3375,5175 3375,5400\" stroke=\"#000000\" stroke-width=\"15px\"/>\n",
       "</g>\n",
       "</svg>"
      ],
      "text/plain": [
       "<IPython.core.display.SVG object>"
      ]
     },
     "execution_count": 3,
     "metadata": {},
     "output_type": "execute_result"
    }
   ],
   "source": [
    "## Electrodiffusion\n",
    "sbg.model('Electrodiffusion_abg.svg')\n",
    "import Electrodiffusion_abg\n",
    "disp.SVG('Electrodiffusion_abg.svg')"
   ]
  },
  {
   "cell_type": "code",
   "execution_count": 4,
   "metadata": {},
   "outputs": [],
   "source": [
    "## Stoichiometry: linear Re\n",
    "s = st.stoich(Electrodiffusion_abg.model(),linear=['Ei','Ee','r'],quiet=quiet)\n",
    "\n",
    "if Fix_conc:\n",
    "    chemostats = ['Ii','Ie']\n",
    "else:\n",
    "    chemostats = []\n",
    "    \n",
    "sc = st.statify(s,chemostats=chemostats)\n",
    "#print(s['species'])\n"
   ]
  },
  {
   "cell_type": "code",
   "execution_count": 5,
   "metadata": {},
   "outputs": [
    {
     "data": {
      "text/latex": [
       "\\begin{align}\n",
       "N &=\n",
       "\\left(\\begin{matrix}1\\\\-1\\\\1\\\\-1\\end{matrix}\\right)\n",
       "\\end{align}\n"
      ],
      "text/plain": [
       "<IPython.core.display.Latex object>"
      ]
     },
     "execution_count": 5,
     "metadata": {},
     "output_type": "execute_result"
    }
   ],
   "source": [
    "## Stoichiometric matrix\n",
    "disp.Latex(st.sprintl(s,'N'))\n",
    "#print(st.sprintl(s,'species'))\n"
   ]
  },
  {
   "cell_type": "code",
   "execution_count": 6,
   "metadata": {},
   "outputs": [
    {
     "data": {
      "text/latex": [
       "\\begin{align}\n",
       "\\ch{Ei + Ii &<>[ r ] Ee + Ie }\n",
       "\\end{align}\n"
      ],
      "text/plain": [
       "<IPython.core.display.Latex object>"
      ]
     },
     "execution_count": 6,
     "metadata": {},
     "output_type": "execute_result"
    }
   ],
   "source": [
    "## Reactions\n",
    "disp.Latex(st.sprintrl(s,chemformula=True,all=True))"
   ]
  },
  {
   "cell_type": "code",
   "execution_count": 7,
   "metadata": {},
   "outputs": [
    {
     "data": {
      "text/latex": [
       "\\begin{align}\n",
       "v_{r} &= \\kappa_{r} \\left(- K_{Ee} x_{Ee} + K_{Ei} x_{Ei} - V_{N} \\left(\\log{\\left(K_{Ie} x_{Ie} \\right)} - \\log{\\left(K_{Ii} x_{Ii} \\right)}\\right)\\right)\n",
       "\\end{align}\n"
      ],
      "text/plain": [
       "<IPython.core.display.Latex object>"
      ]
     },
     "execution_count": 7,
     "metadata": {},
     "output_type": "execute_result"
    }
   ],
   "source": [
    "## Flows\n",
    "disp.Latex(st.sprintvl(s))"
   ]
  },
  {
   "cell_type": "code",
   "execution_count": 8,
   "metadata": {},
   "outputs": [],
   "source": [
    "## Stoichiometry: nonlinear Re\n",
    "s = st.stoich(Electrodiffusion_abg.model(),linear=['Ei','Ee'],quiet=quiet)\n",
    "\n",
    "if Fix_conc:\n",
    "    chemostats = ['Ii','Ie']\n",
    "else:\n",
    "    chemostats = []\n",
    "    \n",
    "sc = st.statify(s,chemostats=chemostats)\n",
    "#print(s['species'])\n"
   ]
  },
  {
   "cell_type": "code",
   "execution_count": 9,
   "metadata": {},
   "outputs": [
    {
     "data": {
      "text/latex": [
       "\\begin{align}\n",
       "\\ch{Ei + Ii &<>[ r ] Ee + Ie }\n",
       "\\end{align}\n"
      ],
      "text/plain": [
       "<IPython.core.display.Latex object>"
      ]
     },
     "execution_count": 9,
     "metadata": {},
     "output_type": "execute_result"
    }
   ],
   "source": [
    "## Reactions\n",
    "disp.Latex(st.sprintrl(s,chemformula=True,all=True))"
   ]
  },
  {
   "cell_type": "code",
   "execution_count": 10,
   "metadata": {},
   "outputs": [
    {
     "name": "stdout",
     "output_type": "stream",
     "text": [
      "\\begin{align}\n",
      "v_{r} &= \\kappa_{r} \\left(- K_{Ie} x_{Ie} e^{\\frac{K_{Ee} x_{Ee}}{V_{N}}} + K_{Ii} x_{Ii} e^{\\frac{K_{Ei} x_{Ei}}{V_{N}}}\\right)\n",
      "\\end{align}\n",
      "\n"
     ]
    },
    {
     "data": {
      "text/latex": [
       "\\begin{align}\n",
       "v_{r} &= \\kappa_{r} \\left(- K_{Ie} x_{Ie} e^{\\frac{K_{Ee} x_{Ee}}{V_{N}}} + K_{Ii} x_{Ii} e^{\\frac{K_{Ei} x_{Ei}}{V_{N}}}\\right)\n",
       "\\end{align}\n"
      ],
      "text/plain": [
       "<IPython.core.display.Latex object>"
      ]
     },
     "execution_count": 10,
     "metadata": {},
     "output_type": "execute_result"
    }
   ],
   "source": [
    "## Flows\n",
    "print(st.sprintvl(s))\n",
    "disp.Latex(st.sprintvl(s))"
   ]
  },
  {
   "cell_type": "code",
   "execution_count": null,
   "metadata": {},
   "outputs": [],
   "source": []
  },
  {
   "cell_type": "code",
   "execution_count": 11,
   "metadata": {},
   "outputs": [],
   "source": [
    "#disp.Latex(st.sprintl(s,'species'))"
   ]
  },
  {
   "cell_type": "code",
   "execution_count": 12,
   "metadata": {},
   "outputs": [],
   "source": [
    "#disp.Latex(st.sprintl(s,'N'))"
   ]
  },
  {
   "cell_type": "code",
   "execution_count": 13,
   "metadata": {},
   "outputs": [],
   "source": [
    "## Set non-unit parameters\n",
    "K_Ii = 1e-3\n",
    "K_Ie = 1e-3\n",
    "C = 1\n",
    "def setPar(s,C=1,conc_i=1,conc_e=1,prefix=['']):\n",
    "    \n",
    "    #V_N = st.V_N()\n",
    "    K_E = 1/C\n",
    "    #print(K_E)\n",
    "    \n",
    "    \n",
    "    ## Parameters\n",
    "    parameter = {}\n",
    "    parameter['K_Ei'] = 0\n",
    "    parameter['K_Ee'] = K_E\n",
    "    \n",
    "    ## Initial state\n",
    "    sp = s['species']\n",
    "    re = s['reaction']\n",
    "    X0 = np.ones(s['n_X'])\n",
    "    X0[sp.index('Ei')] = 0\n",
    "    X0[sp.index('Ee')] = 0\n",
    "    for p in prefix:\n",
    "        \n",
    "        ## Parameters\n",
    "        KK = 'K_'+p\n",
    "        kk = 'kappa_'+p\n",
    "        parameter[KK+'Ii'] = K_Ii\n",
    "        parameter[KK+'Ie'] = K_Ie\n",
    "        \n",
    "        ## States and kappa\n",
    "        if len(p) == 0:\n",
    "            Ion = 'Na'\n",
    "        else:\n",
    "            Ion = p[0:len(p)-1]\n",
    "            #X0[sp.index('Ee')] = 0.077/K_E\n",
    "        \n",
    "        print(Ion)    \n",
    "        X0[sp.index(p+'Ii')] = conc_i[Ion]/K_Ii\n",
    "        X0[sp.index(p+'Ie')] = conc_e[Ion]/K_Ie\n",
    "        parameter[kk+'r'] = 1/conc_i[Ion]\n",
    "        \n",
    "    return parameter,X0"
   ]
  },
  {
   "cell_type": "code",
   "execution_count": 14,
   "metadata": {},
   "outputs": [],
   "source": [
    "def CheckTheory(dat):\n",
    "    \n",
    "    if 'Ii' in s['species']:\n",
    "        ## Check Nernst potential\n",
    "        t = dat['t']\n",
    "        phi_Ei = dat['phi'][:,s['species'].index('Ei')]\n",
    "        phi_Ee = dat['phi'][:,s['species'].index('Ee')]\n",
    "        x_Ii = dat['X'][:,s['species'].index('Ii')]\n",
    "        x_Ie = dat['X'][:,s['species'].index('Ie')]\n",
    "    #     v = dat['V'][:,s['reaction'].index('r')]\n",
    "        V_N = st.V_N()\n",
    "\n",
    "    #     v_ss = v[-1]\n",
    "        dV = (phi_Ei[-1]-phi_Ee[-1] )\n",
    "        dV_theory = V_N*np.log(x_Ie[-1]/x_Ii[-1])\n",
    "    #     print(f'Steady-state flow is {v_ss:0.2}')\n",
    "        print(f'dV = {dV*1000:4.1f}mV')\n",
    "        print(f'dV_Theory = {dV_theory*1000:4.1f}mV')\n",
    "\n"
   ]
  },
  {
   "cell_type": "code",
   "execution_count": 15,
   "metadata": {},
   "outputs": [],
   "source": [
    "def Simulate(s,sc,T=1,X_chemo=None,prefix=['']):\n",
    "\n",
    "    ## Time\n",
    "    t = np.linspace(0,T,500)\n",
    "\n",
    "    ## Parameters and initial state\n",
    "    parameter,X0 = setPar(s,C=C,conc_i=conc_i,conc_e=conc_e,prefix=prefix)\n",
    "    \n",
    "    ## Simulate\n",
    "    dat = st.sim(s,sc=sc,t=t,parameter=parameter,X0=X0,X_chemo=X_chemo,quiet=True)\n",
    "\n",
    "    CheckTheory(dat)\n",
    "\n",
    "    return dat\n",
    "\n"
   ]
  },
  {
   "cell_type": "code",
   "execution_count": 16,
   "metadata": {},
   "outputs": [
    {
     "name": "stdout",
     "output_type": "stream",
     "text": [
      "Na\n",
      "dV = 57.9mV\n",
      "dV_Theory = 57.9mV\n"
     ]
    },
    {
     "data": {
      "image/png": "[encoded data removed]",
      "text/plain": [
       "<Figure size 432x288 with 2 Axes>"
      ]
     },
     "metadata": {
      "needs_background": "light"
     },
     "output_type": "display_data"
    },
    {
     "data": {
      "image/png": "[encoded data removed]",
      "text/plain": [
       "<Figure size 432x288 with 2 Axes>"
      ]
     },
     "metadata": {
      "needs_background": "light"
     },
     "output_type": "display_data"
    }
   ],
   "source": [
    "dat = Simulate(s,sc)\n",
    "#st.plot(s,dat)\n",
    "st.plot(s,dat,plotPhi=True,species=['Ei','Ee'])\n",
    "st.plot(s,dat,plotPhi=True,species=['Ei','Ee'],filename='Figs/electrodiffusion.pdf')\n"
   ]
  },
  {
   "cell_type": "markdown",
   "metadata": {},
   "source": [
    "## Voltage clamp\n",
    "The voltage agross the membrane is clamped by setting C:Ei and C_Ee as chemostats. This allows the voltage-current relationship to be plotted. It is compared with the Hodgkin-Huxley (linear) model and the Goldman-Huxley-Katz model.\n",
    "The bond graph model can be modified to reflect the other two models \\cite{GawSieKam17}."
   ]
  },
  {
   "cell_type": "code",
   "execution_count": 17,
   "metadata": {},
   "outputs": [],
   "source": [
    "## Stoichiometry\n",
    "##chemostats = ['Ii','Ie','Ei','Ee']\n",
    "chemostats = chemostats + ['Ei','Ee']\n",
    "scc = st.statify(s,chemostats=chemostats)\n",
    "#print(s['species'])\n"
   ]
  },
  {
   "cell_type": "code",
   "execution_count": 18,
   "metadata": {},
   "outputs": [
    {
     "name": "stdout",
     "output_type": "stream",
     "text": [
      "Na\n",
      "dV = 57.9mV\n",
      "dV_Theory = 57.8mV\n"
     ]
    },
    {
     "data": {
      "image/png": "[encoded data removed]",
      "text/plain": [
       "<Figure size 432x288 with 2 Axes>"
      ]
     },
     "metadata": {
      "needs_background": "light"
     },
     "output_type": "display_data"
    }
   ],
   "source": [
    "X_chemo = {}\n",
    "V_Nernst = st.V_N()*np.log(conc_e['Na']/conc_i['Na'])\n",
    "#print(f'V_Nernst = {1000*V_Nernst:4.1f} mV')\n",
    "T = 100\n",
    "\n",
    "CV = C*V_Nernst\n",
    "# x_chemo = f'{CV}*(np.sin({2*np.pi/T}*t))'\n",
    "# #X_chemo['Ee'] = f'{-CV/2}-'+x_chemo\n",
    "# X_chemo['E'] = x_chemo\n",
    "x_chemo = f'-{CV}*(1+1.0*np.sin({2*np.pi/T}*t))'\n",
    "X_chemo['Ee'] = x_chemo\n",
    "\n",
    "\n",
    "#print(X_chemo)\n",
    "\n",
    "dat = Simulate(s,scc,T=T,X_chemo=X_chemo)\n",
    "#st.plot(s,dat)\n",
    "st.plot(s,dat,species=['Ei','Ee'])"
   ]
  },
  {
   "cell_type": "code",
   "execution_count": 19,
   "metadata": {},
   "outputs": [
    {
     "data": {
      "image/png": "[encoded data removed]",
      "text/plain": [
       "<Figure size 432x288 with 1 Axes>"
      ]
     },
     "metadata": {
      "needs_background": "light"
     },
     "output_type": "display_data"
    }
   ],
   "source": [
    "def PlotClamp():\n",
    "    t = dat['t']\n",
    "    phi_Ei = dat['phi'][:,s['species'].index('Ei')]\n",
    "    phi_Ee = dat['phi'][:,s['species'].index('Ee')]\n",
    "    x_Ii = dat['X'][:,s['species'].index('Ii')]\n",
    "    x_Ie = dat['X'][:,s['species'].index('Ie')]\n",
    "    v = dat['V'][:,s['reaction'].index('r')]\n",
    "    V_N = st.V_N()\n",
    "\n",
    "    dV = phi_Ei-phi_Ee\n",
    "\n",
    "    ## BG\n",
    "    v_BG = (1/x_Ii)*(x_Ii - x_Ie*np.exp(-dV/V_N))\n",
    "\n",
    "    ## GHK\n",
    "    v_GHK = 0.5*v_BG*(dV/V_N)/(1-np.exp(-dV/V_N))\n",
    "\n",
    "    ## HH\n",
    "    v_HH = (np.exp(-V_Nernst))*(dV - V_Nernst)/V_N\n",
    "\n",
    "    plt.plot(dV*1000,v,label='Clamp',lw = 6)\n",
    "    plt.plot(dV*1000,v_BG,label='BG')\n",
    "    plt.plot(dV*1000,v_GHK,label='GHK')\n",
    "    plt.plot(dV*1000,v_HH,label='HH')\n",
    "    plt.vlines(1000*V_Nernst,min(v),max(v),linestyle='dashed')\n",
    "    plt.grid()\n",
    "    plt.legend()\n",
    "    plt.xlabel('$\\Delta E$ mV')\n",
    "    plt.ylabel('$v/\\kappa$')\n",
    "    ##plt.savefig('Figs/clamp.pdf')\n",
    "    \n",
    "PlotClamp()"
   ]
  },
  {
   "cell_type": "code",
   "execution_count": null,
   "metadata": {},
   "outputs": [],
   "source": []
  },
  {
   "cell_type": "markdown",
   "metadata": {},
   "source": [
    "# Gated ion channel\n"
   ]
  },
  {
   "cell_type": "code",
   "execution_count": 20,
   "metadata": {},
   "outputs": [
    {
     "data": {
      "image/svg+xml": [
       "<svg xmlns=\"http://www.w3.org/2000/svg\" xmlns:xlink=\"http://www.w3.org/1999/xlink\" width=\"285pt\" height=\"371pt\" viewBox=\"888 663 4524 5874\">\n",
       "<g fill=\"none\">\n",
       "<!-- Line -->\n",
       "<rect x=\"900\" y=\"675\" width=\"4500\" height=\"5850\" rx=\"105\" stroke=\"#ffd600\" stroke-width=\"8px\"/>\n",
       "<!-- Text -->\n",
       "<text xml:space=\"preserve\" x=\"4725\" y=\"3600\" fill=\"#0000ff\" font-family=\"Times\" font-style=\"italic\" font-weight=\"bold\" font-size=\"240\" text-anchor=\"middle\">External</text>\n",
       "<!-- Text -->\n",
       "<text xml:space=\"preserve\" x=\"2475\" y=\"1125\" fill=\"#0000ff\" font-family=\"Times\" font-style=\"italic\" font-weight=\"bold\" font-size=\"240\" text-anchor=\"middle\">Chemical</text>\n",
       "<!-- Text -->\n",
       "<text xml:space=\"preserve\" x=\"4725\" y=\"1125\" fill=\"#0000ff\" font-family=\"Times\" font-style=\"italic\" font-weight=\"bold\" font-size=\"240\" text-anchor=\"middle\">Electrical</text>\n",
       "<!-- Text -->\n",
       "<text xml:space=\"preserve\" x=\"4725\" y=\"4275\" fill=\"#0000ff\" font-family=\"Times\" font-style=\"italic\" font-weight=\"bold\" font-size=\"240\" text-anchor=\"middle\">Internal</text>\n",
       "<!-- Text -->\n",
       "<text xml:space=\"preserve\" x=\"3600\" y=\"3915\" fill=\"#000000\" font-family=\"Helvetica\" font-style=\"normal\" font-weight=\"bold\" font-size=\"216\" text-anchor=\"middle\">Re:r</text>\n",
       "<!-- Text -->\n",
       "<text xml:space=\"preserve\" x=\"2475\" y=\"3915\" fill=\"#000000\" font-family=\"Helvetica\" font-style=\"normal\" font-weight=\"bold\" font-size=\"216\" text-anchor=\"middle\">0</text>\n",
       "<!-- Text -->\n",
       "<text xml:space=\"preserve\" x=\"3600\" y=\"2820\" fill=\"#000000\" font-family=\"Helvetica\" font-style=\"normal\" font-weight=\"bold\" font-size=\"216\" text-anchor=\"middle\">1</text>\n",
       "<!-- Text -->\n",
       "<text xml:space=\"preserve\" x=\"2475\" y=\"1650\" fill=\"#000000\" font-family=\"Helvetica\" font-style=\"normal\" font-weight=\"bold\" font-size=\"216\" text-anchor=\"middle\">C:Ie</text>\n",
       "<!-- Text -->\n",
       "<text xml:space=\"preserve\" x=\"4725\" y=\"1650\" fill=\"#000000\" font-family=\"Helvetica\" font-style=\"normal\" font-weight=\"bold\" font-size=\"216\" text-anchor=\"middle\">C:Ee</text>\n",
       "<!-- Text -->\n",
       "<text xml:space=\"preserve\" x=\"3600\" y=\"5040\" fill=\"#000000\" font-family=\"Helvetica\" font-style=\"normal\" font-weight=\"bold\" font-size=\"216\" text-anchor=\"middle\">1</text>\n",
       "<!-- Text -->\n",
       "<text xml:space=\"preserve\" x=\"4725\" y=\"6150\" fill=\"#000000\" font-family=\"Helvetica\" font-style=\"normal\" font-weight=\"bold\" font-size=\"216\" text-anchor=\"middle\">C:Ei</text>\n",
       "<!-- Text -->\n",
       "<text xml:space=\"preserve\" x=\"2475\" y=\"6165\" fill=\"#000000\" font-family=\"Helvetica\" font-style=\"normal\" font-weight=\"bold\" font-size=\"216\" text-anchor=\"middle\">C:Ii</text>\n",
       "<!-- Text -->\n",
       "<text xml:space=\"preserve\" x=\"1260\" y=\"3915\" fill=\"#000000\" font-family=\"Helvetica\" font-style=\"normal\" font-weight=\"bold\" font-size=\"216\" text-anchor=\"middle\">C:G</text>\n",
       "<!-- Line -->\n",
       "<polyline points=\" 4050,3825 5400,3825\" stroke=\"#0000ff\" stroke-width=\"8px\" stroke-dasharray=\"40 40\"/>\n",
       "<!-- Line -->\n",
       "<polyline points=\" 3600,900 3600,2475\" stroke=\"#0000ff\" stroke-width=\"8px\" stroke-dasharray=\"40 40\"/>\n",
       "<!-- Line -->\n",
       "<polyline points=\" 3600,5175 3600,6300\" stroke=\"#0000ff\" stroke-width=\"8px\" stroke-dasharray=\"40 40\"/>\n",
       "<!-- Line -->\n",
       "<polyline points=\" 3600,3600 3600,2925 3825,3150\" stroke=\"#000000\" stroke-width=\"15px\"/>\n",
       "<!-- Line -->\n",
       "<polyline points=\" 4500,5850 3825,5175 3825,5400\" stroke=\"#000000\" stroke-width=\"15px\"/>\n",
       "<!-- Line -->\n",
       "<polyline points=\" 3150,4725 3375,4725 2700,4050\" stroke=\"#000000\" stroke-width=\"15px\"/>\n",
       "<!-- Line -->\n",
       "<polyline points=\" 3600,4725 3600,4050 3825,4275\" stroke=\"#000000\" stroke-width=\"15px\"/>\n",
       "<!-- Line -->\n",
       "<polyline points=\" 2250,3825 1575,3825 1800,4050\" stroke=\"#000000\" stroke-width=\"15px\"/>\n",
       "<!-- Line -->\n",
       "<polyline points=\" 3375,2475 2700,1800 2700,2025\" stroke=\"#000000\" stroke-width=\"15px\"/>\n",
       "<!-- Line -->\n",
       "<polyline points=\" 3825,2475 4500,1800 4500,2025\" stroke=\"#000000\" stroke-width=\"15px\"/>\n",
       "<!-- Line -->\n",
       "<polyline points=\" 3375,2925 2700,3600 2925,3600\" stroke=\"#000000\" stroke-width=\"15px\"/>\n",
       "<!-- Line -->\n",
       "<polyline points=\" 2700,5850 3375,5175 3375,5400\" stroke=\"#000000\" stroke-width=\"15px\"/>\n",
       "</g>\n",
       "</svg>"
      ],
      "text/plain": [
       "<IPython.core.display.SVG object>"
      ]
     },
     "execution_count": 20,
     "metadata": {},
     "output_type": "execute_result"
    }
   ],
   "source": [
    "## Ion Channel\n",
    "sbg.model('IonChannel_abg.svg')\n",
    "import IonChannel_abg\n",
    "disp.SVG('IonChannel_abg.svg')"
   ]
  },
  {
   "cell_type": "code",
   "execution_count": 21,
   "metadata": {},
   "outputs": [
    {
     "name": "stdout",
     "output_type": "stream",
     "text": [
      "['Ee', 'Ei', 'G', 'Ie', 'Ii']\n"
     ]
    }
   ],
   "source": [
    "## Stoichiometry\n",
    "s = st.stoich(IonChannel_abg.model(),linear=['Ei','Ee'],quiet=quiet)\n",
    "if Fix_conc:\n",
    "    chemostats = ['Ii','Ie','G']\n",
    "else:\n",
    "    chemostats = ['G']\n",
    "sc = st.statify(s,chemostats=chemostats)\n",
    "print(s['species'])\n"
   ]
  },
  {
   "cell_type": "code",
   "execution_count": 22,
   "metadata": {},
   "outputs": [
    {
     "data": {
      "text/latex": [
       "\\begin{align}\n",
       "\\ch{Ei + G + Ii &<>[ r ] Ee + G + Ie }\n",
       "\\end{align}\n"
      ],
      "text/plain": [
       "<IPython.core.display.Latex object>"
      ]
     },
     "execution_count": 22,
     "metadata": {},
     "output_type": "execute_result"
    }
   ],
   "source": [
    "## Reactions\n",
    "disp.Latex(st.sprintrl(s,chemformula=True,all=True))"
   ]
  },
  {
   "cell_type": "code",
   "execution_count": 23,
   "metadata": {
    "scrolled": true
   },
   "outputs": [
    {
     "data": {
      "text/latex": [
       "\\begin{align}\n",
       "v_{r} &= K_{G} \\kappa_{r} x_{G} \\left(- K_{Ie} x_{Ie} e^{\\frac{K_{Ee} x_{Ee}}{V_{N}}} + K_{Ii} x_{Ii} e^{\\frac{K_{Ei} x_{Ei}}{V_{N}}}\\right)\n",
       "\\end{align}\n"
      ],
      "text/plain": [
       "<IPython.core.display.Latex object>"
      ]
     },
     "execution_count": 23,
     "metadata": {},
     "output_type": "execute_result"
    }
   ],
   "source": [
    "## Flows\n",
    "disp.Latex(st.sprintvl(s))"
   ]
  },
  {
   "cell_type": "code",
   "execution_count": 24,
   "metadata": {},
   "outputs": [
    {
     "name": "stdout",
     "output_type": "stream",
     "text": [
      "Na\n",
      "dV = 57.4mV\n",
      "dV_Theory = 57.9mV\n"
     ]
    },
    {
     "data": {
      "image/png": "[encoded data removed]",
      "text/plain": [
       "<Figure size 432x288 with 2 Axes>"
      ]
     },
     "metadata": {
      "needs_background": "light"
     },
     "output_type": "display_data"
    }
   ],
   "source": [
    "X_chemo = {'G':'0.1'}\n",
    "dat = Simulate(s,sc,X_chemo=X_chemo)\n",
    "#st.plot(s,dat)\n",
    "st.plot(s,dat,plotPhi=True,species=['Ei','Ee'])"
   ]
  },
  {
   "cell_type": "markdown",
   "metadata": {},
   "source": [
    "# Interacting ion channels\n",
    "\n",
    "Two instances of the ion channel module are combined; one corresponds to \\ch{Na+} and one to \\ch{K+}. The species concentations are encapsulated in the individual modules, but the electrical capaciter are shared. This is a simplified version of the Hodgkin-Huxley model of the squid giant axon and the correponding \\ch{Na+} and \\ch{K+} concentrations are used.\n",
    "\n",
    "The simulations use piecewise constant gating variables $G_{Na}$ and $G_{K}$:\n",
    "\\begin{align}\n",
    "G_K &= \n",
    "\\begin{cases}\n",
    "10^{-6} & \\text{for $0.3<t<0.35$}\\\\\n",
    "1 & \\text{otherwise}\n",
    "\\end{cases}\\\\\n",
    "G_{Na} &= \n",
    "\\begin{cases}\n",
    "1 & \\text{for $0.3<t<0.35$}\\\\\n",
    "4.3 \\times 10^{-3} & \\text{otherwise}\n",
    "\\end{cases}\n",
    "\\end{align}\n",
    "\n",
    "The time course of the membrane potential $\\Delta E$ can be explained as follows.\n",
    "\n",
    "\\begin{description}\n",
    "\\item[$t<0.3$] $\\Delta E$ moves from the initial condition of zero to a *resting potential* of about $-65$mV.\n",
    "\n",
    "This corresponds to the value in Table 2.1 of Keener \\& Sneyd; the resting potential depends not only on Nernst potentials of ch{Na+} and \\ch{K+} (which in turn depends on the concentrations) but also on the values of the gating potential.\n",
    "\\item[$0.3<t<0.35$] $\\Delta E$ undergoes a typical action potential as the \\ch{Na+} gate opens and moves toward the Nernst potential for \\ch{Na+} until the gate closes.\n",
    "\\item[$t>0.35$] $\\Delta E$ \n",
    "returns to the resting potential.\n",
    "\\end{description}\n",
    "\n",
    "In this simple example the gating variables $G_{Na}$ and $G_{K}$ are independent variables, in reality, and in the HH model, the gating variables are modulated by the membrane potential $\\Delta E$. This is discussed in a bond graph context by \\citet{GawSieKam17}.\n"
   ]
  },
  {
   "cell_type": "code",
   "execution_count": 25,
   "metadata": {},
   "outputs": [
    {
     "name": "stdout",
     "output_type": "stream",
     "text": [
      "Creating subsystem: IonChannel:K\n",
      "Creating subsystem: IonChannel:Na\n"
     ]
    },
    {
     "data": {
      "image/svg+xml": [
       "<svg xmlns=\"http://www.w3.org/2000/svg\" xmlns:xlink=\"http://www.w3.org/1999/xlink\" width=\"285pt\" height=\"371pt\" viewBox=\"2238 -12 4524 5874\">\n",
       "<g fill=\"none\">\n",
       "<!-- Line -->\n",
       "<rect x=\"2250\" y=\"0\" width=\"4500\" height=\"5850\" rx=\"105\" stroke=\"#ffd600\" stroke-width=\"8px\"/>\n",
       "<!-- Text -->\n",
       "<text xml:space=\"preserve\" x=\"4500\" y=\"4395\" fill=\"#000000\" font-family=\"Helvetica\" font-style=\"normal\" font-weight=\"bold\" font-size=\"216\" text-anchor=\"middle\">0</text>\n",
       "<!-- Text -->\n",
       "<text xml:space=\"preserve\" x=\"4500\" y=\"315\" fill=\"#000000\" font-family=\"Helvetica\" font-style=\"normal\" font-weight=\"bold\" font-size=\"216\" text-anchor=\"middle\">C:Ee</text>\n",
       "<!-- Text -->\n",
       "<text xml:space=\"preserve\" x=\"4500\" y=\"5715\" fill=\"#000000\" font-family=\"Helvetica\" font-style=\"normal\" font-weight=\"bold\" font-size=\"216\" text-anchor=\"middle\">C:Ei</text>\n",
       "<!-- Text -->\n",
       "<text xml:space=\"preserve\" x=\"4500\" y=\"1665\" fill=\"#000000\" font-family=\"Helvetica\" font-style=\"normal\" font-weight=\"bold\" font-size=\"216\" text-anchor=\"middle\">0</text>\n",
       "<!-- Text -->\n",
       "<text xml:space=\"preserve\" x=\"3150\" y=\"3015\" fill=\"#000000\" font-family=\"Helvetica\" font-style=\"normal\" font-weight=\"bold\" font-size=\"216\" text-anchor=\"middle\">IonChannel:Na</text>\n",
       "<!-- Text -->\n",
       "<text xml:space=\"preserve\" x=\"5850\" y=\"3015\" fill=\"#000000\" font-family=\"Helvetica\" font-style=\"normal\" font-weight=\"bold\" font-size=\"216\" text-anchor=\"middle\">IonChannel:K</text>\n",
       "<!-- Text -->\n",
       "<text xml:space=\"preserve\" x=\"5850\" y=\"3375\" fill=\"#ff0000\" font-family=\"Helvetica\" font-style=\"normal\" font-weight=\"bold\" font-size=\"168\" text-anchor=\"middle\">[Ei]</text>\n",
       "<!-- Text -->\n",
       "<text xml:space=\"preserve\" x=\"5850\" y=\"2700\" fill=\"#ff0000\" font-family=\"Helvetica\" font-style=\"normal\" font-weight=\"bold\" font-size=\"168\" text-anchor=\"middle\">[Ee]</text>\n",
       "<!-- Text -->\n",
       "<text xml:space=\"preserve\" x=\"3150\" y=\"2700\" fill=\"#ff0000\" font-family=\"Helvetica\" font-style=\"normal\" font-weight=\"bold\" font-size=\"168\" text-anchor=\"middle\">[Ee]</text>\n",
       "<!-- Text -->\n",
       "<text xml:space=\"preserve\" x=\"3150\" y=\"3375\" fill=\"#ff0000\" font-family=\"Helvetica\" font-style=\"normal\" font-weight=\"bold\" font-size=\"168\" text-anchor=\"middle\">[Ei]</text>\n",
       "<!-- Line -->\n",
       "<polyline points=\" 4500,1350 4500,450 4725,675\" stroke=\"#000000\" stroke-width=\"15px\"/>\n",
       "<!-- Line -->\n",
       "<polyline points=\" 4500,4500 4500,5400 4725,5175\" stroke=\"#000000\" stroke-width=\"15px\"/>\n",
       "<!-- Line -->\n",
       "<polyline points=\" 3375,2700 4275,1800 4275,2025\" stroke=\"#000000\" stroke-width=\"15px\"/>\n",
       "<!-- Line -->\n",
       "<polyline points=\" 4275,4050 3375,3150 3375,3375\" stroke=\"#000000\" stroke-width=\"15px\"/>\n",
       "<!-- Line -->\n",
       "<polyline points=\" 5625,2700 4725,1800 4725,2025\" stroke=\"#000000\" stroke-width=\"15px\"/>\n",
       "<!-- Line -->\n",
       "<polyline points=\" 4725,4050 5625,3150 5625,3375\" stroke=\"#000000\" stroke-width=\"15px\"/>\n",
       "</g>\n",
       "</svg>"
      ],
      "text/plain": [
       "<IPython.core.display.SVG object>"
      ]
     },
     "execution_count": 25,
     "metadata": {},
     "output_type": "execute_result"
    }
   ],
   "source": [
    "## Ion Channels\n",
    "sbg.model('IonChannels_abg.svg')\n",
    "import IonChannels_abg\n",
    "disp.SVG('IonChannels_abg.svg')"
   ]
  },
  {
   "cell_type": "code",
   "execution_count": 26,
   "metadata": {},
   "outputs": [
    {
     "name": "stdout",
     "output_type": "stream",
     "text": [
      "['Ee', 'Ei', 'K_G', 'K_Ie', 'K_Ii', 'Na_G', 'Na_Ie', 'Na_Ii']\n"
     ]
    }
   ],
   "source": [
    "## Stoichiometry\n",
    "s = st.stoich(IonChannels_abg.model(),linear=['Ei','Ee'],quiet=quiet)\n",
    "if Fix_conc:\n",
    "    chemostats = ['Na_Ii','Na_Ie','Na_G', 'K_Ii','K_Ie','K_G']\n",
    "else:\n",
    "    chemostats = ['Na_G','K_G']\n",
    "sc = st.statify(s,chemostats=chemostats)\n",
    "print(s['species'])\n"
   ]
  },
  {
   "cell_type": "code",
   "execution_count": 27,
   "metadata": {},
   "outputs": [
    {
     "data": {
      "text/latex": [
       "\\begin{align}\n",
       "\\ch{Ei + K_G + K_Ii &<>[ K_r ] Ee + K_G + K_Ie }\\\\\n",
       "\\ch{Ei + Na_G + Na_Ii &<>[ Na_r ] Ee + Na_G + Na_Ie }\n",
       "\\end{align}\n"
      ],
      "text/plain": [
       "<IPython.core.display.Latex object>"
      ]
     },
     "execution_count": 27,
     "metadata": {},
     "output_type": "execute_result"
    }
   ],
   "source": [
    "## Reactions\n",
    "disp.Latex(st.sprintrl(s,chemformula=True,all=True))"
   ]
  },
  {
   "cell_type": "code",
   "execution_count": 28,
   "metadata": {
    "scrolled": true
   },
   "outputs": [
    {
     "data": {
      "text/latex": [
       "\\begin{align}\n",
       "v_{K r} &= K_{K G} \\kappa_{K r} x_{K G} \\left(- K_{K Ie} x_{K Ie} e^{\\frac{K_{Ee} x_{Ee}}{V_{N}}} + K_{K Ii} x_{K Ii} e^{\\frac{K_{Ei} x_{Ei}}{V_{N}}}\\right)\\\\\n",
       "v_{Na r} &= K_{Na G} \\kappa_{Na r} x_{Na G} \\left(- K_{Na Ie} x_{Na Ie} e^{\\frac{K_{Ee} x_{Ee}}{V_{N}}} + K_{Na Ii} x_{Na Ii} e^{\\frac{K_{Ei} x_{Ei}}{V_{N}}}\\right)\n",
       "\\end{align}\n"
      ],
      "text/plain": [
       "<IPython.core.display.Latex object>"
      ]
     },
     "execution_count": 28,
     "metadata": {},
     "output_type": "execute_result"
    }
   ],
   "source": [
    "## Flows\n",
    "disp.Latex(st.sprintvl(s))"
   ]
  },
  {
   "cell_type": "code",
   "execution_count": 29,
   "metadata": {
    "scrolled": true
   },
   "outputs": [
    {
     "name": "stdout",
     "output_type": "stream",
     "text": [
      "Na\n",
      "K\n"
     ]
    },
    {
     "data": {
      "image/png": "[encoded data removed]",
      "text/plain": [
       "<Figure size 432x288 with 2 Axes>"
      ]
     },
     "metadata": {
      "needs_background": "light"
     },
     "output_type": "display_data"
    }
   ],
   "source": [
    "t0_Na = 0.3\n",
    "t1_Na = 0.35\n",
    "t0_K = 0.35\n",
    "t1_K = 1.0\n",
    "\n",
    "G_K_0 = 1e-6\n",
    "G_Na_0 = 4.3e-3\n",
    "\n",
    "G_K = f'{G_K_0}+np.heaviside(t,1)-np.heaviside(t-{t0_Na},1)+np.heaviside(t-{t0_K},1)-np.heaviside(t-{t1_K},1)'\n",
    "G_Na = f'{G_Na_0}+np.heaviside(t-{t0_Na},1)-np.heaviside(t-{t1_Na},1)'\n",
    "# G_K = '1e-1'\n",
    "# G_Na = '1e-6'\n",
    "X_chemo = {'Na_G':G_Na,'K_G':G_K}\n",
    "dat = Simulate(s,sc,X_chemo=X_chemo,prefix=['Na_','K_'],T=0.6)\n",
    "#st.plot(s,dat)\n",
    "st.plot(s,dat,plotPhi=True,species=['Ei','Ee'])"
   ]
  },
  {
   "cell_type": "code",
   "execution_count": 30,
   "metadata": {
    "scrolled": false
   },
   "outputs": [
    {
     "name": "stdout",
     "output_type": "stream",
     "text": [
      "Resting potential = -64.90 mV\n"
     ]
    },
    {
     "data": {
      "image/png": "[encoded data removed]",
      "text/plain": [
       "<Figure size 432x288 with 1 Axes>"
      ]
     },
     "metadata": {
      "needs_background": "light"
     },
     "output_type": "display_data"
    },
    {
     "data": {
      "image/png": "[encoded data removed]",
      "text/plain": [
       "<Figure size 432x288 with 1 Axes>"
      ]
     },
     "metadata": {
      "needs_background": "light"
     },
     "output_type": "display_data"
    },
    {
     "data": {
      "image/png": "[encoded data removed]",
      "text/plain": [
       "<Figure size 432x288 with 1 Axes>"
      ]
     },
     "metadata": {
      "needs_background": "light"
     },
     "output_type": "display_data"
    },
    {
     "data": {
      "image/png": "[encoded data removed]",
      "text/plain": [
       "<Figure size 432x288 with 1 Axes>"
      ]
     },
     "metadata": {
      "needs_background": "light"
     },
     "output_type": "display_data"
    }
   ],
   "source": [
    "def PlotAction():\n",
    "    t = dat['t']\n",
    "    phi_Ei = dat['phi'][:,s['species'].index('Ei')]\n",
    "    phi_Ee = dat['phi'][:,s['species'].index('Ee')]\n",
    "    dE = phi_Ei-phi_Ee\n",
    "    \n",
    "    print(f'Resting potential = {1000*dE[-1]:.2f} mV')\n",
    "    \n",
    "    X_G_K = dat['X'][:,s['species'].index('K_G')]\n",
    "    X_G_Na = dat['X'][:,s['species'].index('Na_G')]\n",
    "\n",
    "    v_Na = dat['V'][:,s['reaction'].index('Na_r')]\n",
    "    v_K  = dat['V'][:,s['reaction'].index('K_r')]\n",
    "    \n",
    "    \n",
    "    conc_Na_e = K_Ie*dat['X'][:,s['species'].index('Na_Ie')]\n",
    "    conc_Na_i = K_Ii*dat['X'][:,s['species'].index('Na_Ii')]\n",
    "    conc_Na_e_0 = conc_Na_e[0]\n",
    "    conc_Na_i_0 = conc_Na_i[0]\n",
    "\n",
    "    conc_K_e = K_Ie*dat['X'][:,s['species'].index('K_Ie')]\n",
    "    conc_K_i = K_Ii*dat['X'][:,s['species'].index('K_Ii')]\n",
    "    conc_K_e_0 = conc_K_e[0]\n",
    "    conc_K_i_0 = conc_K_i[0]\n",
    "\n",
    "    plt.plot(t,1000*dE)\n",
    "    plt.grid()\n",
    "    plt.ylabel('$\\Delta E$ mV')\n",
    "    plt.xlabel('$t$')\n",
    "    #plt.savefig('Figs/action.pdf')\n",
    "    plt.show()\n",
    "    \n",
    "    plt.plot(t,v_Na,label='Na')\n",
    "    plt.plot(t,v_K,label='K')\n",
    "    plt.grid()\n",
    "    plt.legend()\n",
    "    plt.ylabel('$i$ mA')\n",
    "    plt.xlabel('$t$')\n",
    "    #plt.savefig('Figs/action_current.pdf')\n",
    "    plt.show()\n",
    "    \n",
    "    plt.plot(t,100*(conc_Na_e-conc_Na_e_0)/conc_Na_e_0,label='Na_e')\n",
    "    plt.plot(t,100*(conc_Na_i-conc_Na_i_0)/conc_Na_i_0,label='Na_i')\n",
    "    plt.plot(t,100*(conc_K_e-conc_K_e_0)/conc_K_e_0,label='K_e')\n",
    "    plt.plot(t,100*(conc_K_i-conc_K_i_0)/conc_K_i_0,label='K_i')\n",
    "\n",
    "    plt.legend()\n",
    "    plt.grid()\n",
    "    plt.ylabel(r'$\\Delta c (\\%)$')\n",
    "    plt.xlabel('$t$')\n",
    "    ##plt.savefig('Figs/action_conc.pdf')\n",
    "    plt.show()\n",
    "    \n",
    "    plt.plot(t,X_G_K,label='G_K')\n",
    "    plt.plot(t,X_G_Na,label='G_Na')\n",
    "    plt.legend()\n",
    "    plt.grid()\n",
    "    plt.ylabel('Gating')\n",
    "    plt.xlabel('$t$')\n",
    "    ##plt.savefig('Figs/action_gating.pdf')\n",
    "    plt.show()\n",
    "    \n",
    "    \n",
    "\n",
    "PlotAction()"
   ]
  },
  {
   "cell_type": "code",
   "execution_count": null,
   "metadata": {},
   "outputs": [],
   "source": []
  },
  {
   "cell_type": "code",
   "execution_count": null,
   "metadata": {},
   "outputs": [],
   "source": []
  }
 ],
 "metadata": {
  "kernelspec": {
   "display_name": "Python 3",
   "language": "python",
   "name": "python3"
  },
  "language_info": {
   "codemirror_mode": {
    "name": "ipython",
    "version": 3
   },
   "file_extension": ".py",
   "mimetype": "text/x-python",
   "name": "python",
   "nbconvert_exporter": "python",
   "pygments_lexer": "ipython3",
   "version": "3.8.5"
  },
  "toc": {
   "base_numbering": 1,
   "nav_menu": {},
   "number_sections": true,
   "sideBar": true,
   "skip_h1_title": false,
   "title_cell": "Table of Contents",
   "title_sidebar": "Contents",
   "toc_cell": false,
   "toc_position": {},
   "toc_section_display": true,
   "toc_window_display": false
  }
 },
 "nbformat": 4,
 "nbformat_minor": 2
}
