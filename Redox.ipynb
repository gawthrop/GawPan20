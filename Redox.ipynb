{
 "cells": [
  {
   "cell_type": "markdown",
   "metadata": {},
   "source": [
    "***Note:*** \n",
    "\n",
    "- This example is discussed in detail by <cite data-cite=\"GawPan20X\">Gawthrop and Pan (2020)</cite> available [here](https://arxiv.org/abs/2009.02217).\n",
    "\n",
    "- This is the Redox.ipynb notebook. The PDF version is available [here](Redox.pdf).\n",
    "\n"
   ]
  },
  {
   "cell_type": "markdown",
   "metadata": {},
   "source": [
    "# Introduction\n",
    "Redox reactions and proton pumps play a fundamental role in Biology. This note illustrates this using a bond graph model of complex I of the mitochondrial electron transport chain.\n"
   ]
  },
  {
   "cell_type": "code",
   "execution_count": 1,
   "metadata": {
    "scrolled": true
   },
   "outputs": [
    {
     "name": "stdout",
     "output_type": "stream",
     "text": [
      "BGT version is 0.3.7\n"
     ]
    }
   ],
   "source": [
    "## Some useful imports\n",
    "import BondGraphTools as bgt\n",
    "print('BGT version is',bgt.version)\n",
    "import numpy as np\n",
    "import sympy as sp\n",
    "import matplotlib.pyplot as plt\n",
    "\n",
    "## Stoichiometric analysis\n",
    "import stoich as st\n",
    "\n",
    "## SVG\n",
    "import svgBondGraph as sbg\n",
    "\n",
    "## Display (eg disp.SVG(), disp.\n",
    "import IPython.display as disp\n",
    "\n",
    "## Potential data\n",
    "import phiData\n",
    "\n",
    "quiet = True\n",
    "TranslateSVG = False\n"
   ]
  },
  {
   "cell_type": "markdown",
   "metadata": {},
   "source": [
    "# Redox reaction\n",
    "A key energy-generating redox reaction that within the mitochondrial respiratory chain is\n",
    "\\begin{equation}\\label{eq:NAD}\n",
    "\\mathrm{NADH + Q + H^+ \\rightleftharpoons NAD+ +  QH2 }\n",
    "\\end{equation}\n",
    "This reaction can be divided into the half reactions:\n",
    "\\begin{align}\n",
    "\\mathrm{NADH} &\\rightleftharpoons \\mathrm{2 e_1^- + H^+ + NAD^+}\\label{eq:NAD_1}\\\\\n",
    "\\mathrm{2 e_2^- + 2 H^+ + Q} &\\rightleftharpoons \\mathrm{QH_2}\\label{eq:NAD_2}\n",
    "\\end{align}\n",
    "A bond graph representation of this decomposition is given  below."
   ]
  },
  {
   "cell_type": "markdown",
   "metadata": {},
   "source": [
    "## Bond graph\n",
    "C:E1 and C:E2 represent the electron potentials and the other The C components represent the species; the two Re components the two half reactions. "
   ]
  },
  {
   "cell_type": "code",
   "execution_count": 2,
   "metadata": {
    "scrolled": true
   },
   "outputs": [
    {
     "data": {
      "image/svg+xml": [
       "<svg xmlns=\"http://www.w3.org/2000/svg\" xmlns:xlink=\"http://www.w3.org/1999/xlink\" width=\"739pt\" height=\"300pt\" viewBox=\"213 1338 11724 4749\">\n",
       "<g fill=\"none\">\n",
       "<!-- Line -->\n",
       "<rect x=\"4725\" y=\"1575\" width=\"2475\" height=\"2250\" rx=\"105\" stroke=\"#ff0000\" stroke-width=\"15px\" stroke-dasharray=\"60 60\"/>\n",
       "<!-- Line -->\n",
       "<rect x=\"225\" y=\"1350\" width=\"11700\" height=\"4725\" rx=\"105\" stroke=\"#ffd600\" stroke-width=\"8px\"/>\n",
       "<!-- Text -->\n",
       "<text xml:space=\"preserve\" x=\"2475\" y=\"3240\" fill=\"#000000\" font-family=\"Helvetica\" font-style=\"normal\" font-weight=\"bold\" font-size=\"216\" text-anchor=\"middle\">Re:r1</text>\n",
       "<!-- Text -->\n",
       "<text xml:space=\"preserve\" x=\"900\" y=\"3240\" fill=\"#000000\" font-family=\"Helvetica\" font-style=\"normal\" font-weight=\"bold\" font-size=\"216\" text-anchor=\"middle\">1</text>\n",
       "<!-- Text -->\n",
       "<text xml:space=\"preserve\" x=\"4050\" y=\"3240\" fill=\"#000000\" font-family=\"Helvetica\" font-style=\"normal\" font-weight=\"bold\" font-size=\"216\" text-anchor=\"middle\">1</text>\n",
       "<!-- Text -->\n",
       "<text xml:space=\"preserve\" x=\"5400\" y=\"3240\" fill=\"#000000\" font-family=\"Helvetica\" font-style=\"normal\" font-weight=\"bold\" font-size=\"216\" text-anchor=\"middle\">0</text>\n",
       "<!-- Text -->\n",
       "<text xml:space=\"preserve\" x=\"4050\" y=\"4590\" fill=\"#000000\" font-family=\"Helvetica\" font-style=\"normal\" font-weight=\"bold\" font-size=\"216\" text-anchor=\"middle\">0</text>\n",
       "<!-- Text -->\n",
       "<text xml:space=\"preserve\" x=\"4050\" y=\"5940\" fill=\"#000000\" font-family=\"Helvetica\" font-style=\"normal\" font-weight=\"bold\" font-size=\"216\" text-anchor=\"middle\">C:H</text>\n",
       "<!-- Text -->\n",
       "<text xml:space=\"preserve\" x=\"6750\" y=\"3240\" fill=\"#000000\" font-family=\"Helvetica\" font-style=\"normal\" font-weight=\"bold\" font-size=\"216\" text-anchor=\"middle\">0</text>\n",
       "<!-- Text -->\n",
       "<text xml:space=\"preserve\" x=\"8100\" y=\"3240\" fill=\"#000000\" font-family=\"Helvetica\" font-style=\"normal\" font-weight=\"bold\" font-size=\"216\" text-anchor=\"middle\">1</text>\n",
       "<!-- Text -->\n",
       "<text xml:space=\"preserve\" x=\"9675\" y=\"3240\" fill=\"#000000\" font-family=\"Helvetica\" font-style=\"normal\" font-weight=\"bold\" font-size=\"216\" text-anchor=\"middle\">Re:r2</text>\n",
       "<!-- Text -->\n",
       "<text xml:space=\"preserve\" x=\"11250\" y=\"3240\" fill=\"#000000\" font-family=\"Helvetica\" font-style=\"normal\" font-weight=\"bold\" font-size=\"216\" text-anchor=\"middle\">1</text>\n",
       "<!-- Text -->\n",
       "<text xml:space=\"preserve\" x=\"8100\" y=\"4590\" fill=\"#000000\" font-family=\"Helvetica\" font-style=\"normal\" font-weight=\"bold\" font-size=\"216\" text-anchor=\"middle\">0</text>\n",
       "<!-- Text -->\n",
       "<text xml:space=\"preserve\" x=\"900\" y=\"1890\" fill=\"#000000\" font-family=\"Helvetica\" font-style=\"normal\" font-weight=\"bold\" font-size=\"216\" text-anchor=\"middle\">C:NADH</text>\n",
       "<!-- Text -->\n",
       "<text xml:space=\"preserve\" x=\"4050\" y=\"1890\" fill=\"#000000\" font-family=\"Helvetica\" font-style=\"normal\" font-weight=\"bold\" font-size=\"216\" text-anchor=\"middle\">C:NAD</text>\n",
       "<!-- Text -->\n",
       "<text xml:space=\"preserve\" x=\"5400\" y=\"1890\" fill=\"#000000\" font-family=\"Helvetica\" font-style=\"normal\" font-weight=\"bold\" font-size=\"216\" text-anchor=\"middle\">C:E1</text>\n",
       "<!-- Text -->\n",
       "<text xml:space=\"preserve\" x=\"6750\" y=\"1890\" fill=\"#000000\" font-family=\"Helvetica\" font-style=\"normal\" font-weight=\"bold\" font-size=\"216\" text-anchor=\"middle\">C:E2</text>\n",
       "<!-- Text -->\n",
       "<text xml:space=\"preserve\" x=\"8100\" y=\"1890\" fill=\"#000000\" font-family=\"Helvetica\" font-style=\"normal\" font-weight=\"bold\" font-size=\"216\" text-anchor=\"middle\">C:Q</text>\n",
       "<!-- Text -->\n",
       "<text xml:space=\"preserve\" x=\"11250\" y=\"1890\" fill=\"#000000\" font-family=\"Helvetica\" font-style=\"normal\" font-weight=\"bold\" font-size=\"216\" text-anchor=\"middle\">C:QH2</text>\n",
       "<!-- Line -->\n",
       "<polyline points=\" 2925,3150 3825,3150 3600,3375\" stroke=\"#000000\" stroke-width=\"15px\"/>\n",
       "<!-- Line -->\n",
       "<polyline points=\" 4050,3375 4050,4275 4275,4050\" stroke=\"#000000\" stroke-width=\"15px\"/>\n",
       "<!-- Line -->\n",
       "<polyline points=\" 900,2025 900,2925 1125,2700\" stroke=\"#000000\" stroke-width=\"15px\"/>\n",
       "<!-- Line -->\n",
       "<polyline points=\" 1125,3150 2025,3150 1800,3375\" stroke=\"#000000\" stroke-width=\"15px\"/>\n",
       "<!-- Line -->\n",
       "<polyline points=\" 4050,2925 4050,2025 4275,2250\" stroke=\"#000000\" stroke-width=\"15px\"/>\n",
       "<!-- Line -->\n",
       "<polyline points=\" 4275,3060 5175,3060 4950,3285\" stroke=\"#000000\" stroke-width=\"15px\"/>\n",
       "<!-- Line -->\n",
       "<polyline points=\" 4275,3240 5175,3240 4950,3465\" stroke=\"#000000\" stroke-width=\"15px\"/>\n",
       "<!-- Line -->\n",
       "<polyline points=\" 4050,4725 4050,5625 4275,5400\" stroke=\"#000000\" stroke-width=\"15px\"/>\n",
       "<!-- Line -->\n",
       "<polyline points=\" 5400,2925 5400,2025 5625,2250\" stroke=\"#000000\" stroke-width=\"15px\"/>\n",
       "<!-- Line -->\n",
       "<polyline points=\" 4275,4500 7875,4500 7650,4725\" stroke=\"#000000\" stroke-width=\"15px\"/>\n",
       "<!-- Line -->\n",
       "<polyline points=\" 8325,3150 9225,3150 9000,3375\" stroke=\"#000000\" stroke-width=\"15px\"/>\n",
       "<!-- Line -->\n",
       "<polyline points=\" 10125,3150 11025,3150 10800,3375\" stroke=\"#000000\" stroke-width=\"15px\"/>\n",
       "<!-- Line -->\n",
       "<polyline points=\" 8100,2025 8100,2925 8325,2700\" stroke=\"#000000\" stroke-width=\"15px\"/>\n",
       "<!-- Line -->\n",
       "<polyline points=\" 11250,2925 11250,2025 11475,2250\" stroke=\"#000000\" stroke-width=\"15px\"/>\n",
       "<!-- Line -->\n",
       "<polyline points=\" 8010,4275 8010,3375 8235,3600\" stroke=\"#000000\" stroke-width=\"15px\"/>\n",
       "<!-- Line -->\n",
       "<polyline points=\" 8190,4275 8190,3375 8415,3600\" stroke=\"#000000\" stroke-width=\"15px\"/>\n",
       "<!-- Line -->\n",
       "<polyline points=\" 6975,3060 7875,3060 7650,3285\" stroke=\"#000000\" stroke-width=\"15px\"/>\n",
       "<!-- Line -->\n",
       "<polyline points=\" 6975,3240 7875,3240 7650,3465\" stroke=\"#000000\" stroke-width=\"15px\"/>\n",
       "<!-- Line -->\n",
       "<polyline points=\" 6750,2025 6750,2925 6975,2700\" stroke=\"#000000\" stroke-width=\"15px\"/>\n",
       "</g>\n",
       "</svg>"
      ],
      "text/plain": [
       "<IPython.core.display.SVG object>"
      ]
     },
     "execution_count": 2,
     "metadata": {},
     "output_type": "execute_result"
    }
   ],
   "source": [
    "## Redox reaction\n",
    "if TranslateSVG:\n",
    "    sbg.model('Redox_abg.svg',quiet=False)\n",
    "import Redox_abg\n",
    "disp.SVG('Redox_abg.svg')"
   ]
  },
  {
   "cell_type": "markdown",
   "metadata": {},
   "source": [
    "## Stoichiometry"
   ]
  },
  {
   "cell_type": "code",
   "execution_count": 3,
   "metadata": {},
   "outputs": [],
   "source": [
    "## Stoichiometry\n",
    "linear = ['E1','E2']\n",
    "s = st.stoich(Redox_abg.model(),linear=linear,quiet=quiet)\n",
    "chemostats = ['NADH','NAD','Q','QH2','H']\n",
    "sc = st.statify(s,chemostats=chemostats)"
   ]
  },
  {
   "cell_type": "code",
   "execution_count": 4,
   "metadata": {
    "scrolled": true
   },
   "outputs": [
    {
     "data": {
      "text/latex": [
       "\\begin{align}\n",
       "N &=\n",
       "\\left(\\begin{matrix}2 & 0\\\\0 & -2\\\\1 & -2\\\\1 & 0\\\\-1 & 0\\\\0 & -1\\\\0 & 1\\end{matrix}\\right)\n",
       "\\end{align}\n"
      ],
      "text/plain": [
       "<IPython.core.display.Latex object>"
      ]
     },
     "execution_count": 4,
     "metadata": {},
     "output_type": "execute_result"
    }
   ],
   "source": [
    "## Stoichiometric matrix\n",
    "disp.Latex(st.sprintl(s,'N'))"
   ]
  },
  {
   "cell_type": "markdown",
   "metadata": {},
   "source": [
    "## Reactions\n",
    "These are automatically generated from the bond graph"
   ]
  },
  {
   "cell_type": "code",
   "execution_count": 5,
   "metadata": {
    "scrolled": false
   },
   "outputs": [
    {
     "data": {
      "text/latex": [
       "\\begin{align}\n",
       "\\ch{NADH &<>[ r1 ] 2 E1 + H + NAD }\\\\\n",
       "\\ch{2 E2 + 2 H + Q &<>[ r2 ] QH2 }\n",
       "\\end{align}\n"
      ],
      "text/plain": [
       "<IPython.core.display.Latex object>"
      ]
     },
     "execution_count": 5,
     "metadata": {},
     "output_type": "execute_result"
    }
   ],
   "source": [
    "## Reactions\n",
    "disp.Latex(st.sprintrl(s,chemformula=True,all=True))"
   ]
  },
  {
   "cell_type": "markdown",
   "metadata": {},
   "source": [
    "## Potentials\n",
    "The reaction (Faraday Equivalent) potentials are computed from tables gleaned from the literature"
   ]
  },
  {
   "cell_type": "code",
   "execution_count": 6,
   "metadata": {
    "scrolled": true
   },
   "outputs": [
    {
     "name": "stdout",
     "output_type": "stream",
     "text": [
      "%% Table\n",
      "\\ch{NAD} & 188 & 5.02e-04 & -15\\\\\n",
      "\\ch{NADH} & 407 & 7.50e-05 & 154\\\\\n",
      "\\ch{Q} & 675 & 1.00e-02 & 552\\\\\n",
      "\\ch{QH2} & -241 & 1.00e-02 & -365\\\\\n",
      "\\ch{H} & 0 & 1.00e-07 & -431\\\\\n",
      "\n",
      "%% Equations\n",
      "E1 = 0.5(154 - -15 - -431) = 300 mV\n",
      "E2 = 0.5(-365 - 552 - 2x-431) = -28 mV\n",
      "E1-E2 = 328 mV\n",
      "PMF = 164 mV\n"
     ]
    }
   ],
   "source": [
    "## Standard potetials\n",
    "phi_Std = phiData.phi_Std()\n",
    "\n",
    "## Typical concentrations\n",
    "conc = phiData.ParRubXu16_conc()\n",
    "\n",
    "## From BazBeaVin16\n",
    "conc['Q'] = conc['QH2'] = 1e-2\n",
    "\n",
    "## pH 7\n",
    "conc['H'] = 1e-7\n",
    "\n",
    "## Table for paper and put values in to phi_NADH etc.\n",
    "print('%% Table')\n",
    "ch='\\ch'\n",
    "l='{'\n",
    "r='}'\n",
    "eol = r'\\\\'\n",
    "phi_std = {}\n",
    "for spec in ['NAD','NADH','Q','QH2','H']:\n",
    "    phi0 = phi_Std[spec]\n",
    "    con = conc[spec]\n",
    "    phi_std_spec = phi0 + st.V_N()*np.log(con)\n",
    "    phi_std[spec] = phi_std_spec\n",
    "    #print(f'phi_Std_{spec} = {1000*phi0:0.0f}, phi_{spec} = {1000*phi_std[spec]:.0f}, conc_{spec}={conc[spec]}')\n",
    "    print(f'{ch}{l}{spec}{r} & {1000*phi0:.0f} & {con:1.2e} & {1000*phi_std_spec:.0f}{eol}')\n",
    "    exec(f'phi_{spec} = {phi_std_spec}')\n",
    "  \n",
    "\n",
    "## Print the worked example for the paper.\n",
    "print('\\n%% Equations')\n",
    "E1 = 0.5*(phi_NADH - phi_NAD - phi_H)\n",
    "E2 = 0.5*(phi_QH2 - phi_Q - 2*phi_H)\n",
    "print(f'E1 = 0.5({1000*phi_NADH:.0f} - {1000*phi_NAD:.0f} - {1000*phi_H:.0f}) = {1000*E1:.0f} mV')\n",
    "print(f'E2 = 0.5({1000*phi_QH2:.0f} - {1000*phi_Q:.0f} - 2x{1000*phi_H:.0f}) = {1000*E2:.0f} mV')\n",
    "print(f'E1-E2 = {1000*(E1-E2):.0f} mV')\n",
    "print(f'PMF = {1000*(E1-E2)/2:.0f} mV')"
   ]
  },
  {
   "cell_type": "markdown",
   "metadata": {},
   "source": [
    "\n",
    "# Proton pump\n",
    "The redox reaction of complex I drives a proton pump."
   ]
  },
  {
   "cell_type": "markdown",
   "metadata": {},
   "source": [
    "## Bond graph\n",
    "C:E1 and C:E2 correspond to the redox reaction and provide the potential to drive protons in the interior $H^+_i$ to the exterior $H^+_e$ of the mitochondrial membrane. The protons have both electrical and chemical potential."
   ]
  },
  {
   "cell_type": "code",
   "execution_count": 7,
   "metadata": {
    "scrolled": false
   },
   "outputs": [
    {
     "data": {
      "image/svg+xml": [
       "<svg xmlns=\"http://www.w3.org/2000/svg\" xmlns:xlink=\"http://www.w3.org/1999/xlink\" width=\"258pt\" height=\"542pt\" viewBox=\"1553 -472 4094 8594\">\n",
       "<g fill=\"none\">\n",
       "<!-- Line -->\n",
       "<rect x=\"1575\" y=\"-450\" width=\"4050\" height=\"8550\" rx=\"105\" stroke=\"#ffd600\" stroke-width=\"15px\"/>\n",
       "<!-- Text -->\n",
       "<text xml:space=\"preserve\" x=\"2250\" y=\"675\" fill=\"#0000ff\" font-family=\"Times\" font-style=\"italic\" font-weight=\"bold\" font-size=\"240\" text-anchor=\"middle\">Chemical</text>\n",
       "<!-- Text -->\n",
       "<text xml:space=\"preserve\" x=\"4950\" y=\"675\" fill=\"#0000ff\" font-family=\"Times\" font-style=\"italic\" font-weight=\"bold\" font-size=\"240\" text-anchor=\"middle\">Electrical</text>\n",
       "<!-- Text -->\n",
       "<text xml:space=\"preserve\" x=\"4725\" y=\"3600\" fill=\"#0000ff\" font-family=\"Times\" font-style=\"italic\" font-weight=\"bold\" font-size=\"240\" text-anchor=\"middle\">External</text>\n",
       "<!-- Text -->\n",
       "<text xml:space=\"preserve\" x=\"4725\" y=\"4275\" fill=\"#0000ff\" font-family=\"Times\" font-style=\"italic\" font-weight=\"bold\" font-size=\"240\" text-anchor=\"middle\">Internal</text>\n",
       "<!-- Text -->\n",
       "<text xml:space=\"preserve\" x=\"3600\" y=\"3915\" fill=\"#000000\" font-family=\"Helvetica\" font-style=\"normal\" font-weight=\"bold\" font-size=\"216\" text-anchor=\"middle\">Re:rp</text>\n",
       "<!-- Text -->\n",
       "<text xml:space=\"preserve\" x=\"3600\" y=\"2595\" fill=\"#000000\" font-family=\"Helvetica\" font-style=\"normal\" font-weight=\"bold\" font-size=\"216\" text-anchor=\"middle\">1</text>\n",
       "<!-- Text -->\n",
       "<text xml:space=\"preserve\" x=\"2250\" y=\"2595\" fill=\"#000000\" font-family=\"Helvetica\" font-style=\"normal\" font-weight=\"bold\" font-size=\"216\" text-anchor=\"middle\">0</text>\n",
       "<!-- Text -->\n",
       "<text xml:space=\"preserve\" x=\"4950\" y=\"2595\" fill=\"#000000\" font-family=\"Helvetica\" font-style=\"normal\" font-weight=\"bold\" font-size=\"216\" text-anchor=\"middle\">0</text>\n",
       "<!-- Text -->\n",
       "<text xml:space=\"preserve\" x=\"3600\" y=\"5265\" fill=\"#000000\" font-family=\"Helvetica\" font-style=\"normal\" font-weight=\"bold\" font-size=\"216\" text-anchor=\"middle\">1</text>\n",
       "<!-- Text -->\n",
       "<text xml:space=\"preserve\" x=\"2250\" y=\"5265\" fill=\"#000000\" font-family=\"Helvetica\" font-style=\"normal\" font-weight=\"bold\" font-size=\"216\" text-anchor=\"middle\">0</text>\n",
       "<!-- Text -->\n",
       "<text xml:space=\"preserve\" x=\"4950\" y=\"5265\" fill=\"#000000\" font-family=\"Helvetica\" font-style=\"normal\" font-weight=\"bold\" font-size=\"216\" text-anchor=\"middle\">0</text>\n",
       "<!-- Text -->\n",
       "<text xml:space=\"preserve\" x=\"3600\" y=\"6615\" fill=\"#000000\" font-family=\"Helvetica\" font-style=\"normal\" font-weight=\"bold\" font-size=\"216\" text-anchor=\"middle\">0</text>\n",
       "<!-- Text -->\n",
       "<text xml:space=\"preserve\" x=\"3600\" y=\"7965\" fill=\"#000000\" font-family=\"Helvetica\" font-style=\"normal\" font-weight=\"bold\" font-size=\"216\" text-anchor=\"middle\">C:E1</text>\n",
       "<!-- Text -->\n",
       "<text xml:space=\"preserve\" x=\"3600\" y=\"1215\" fill=\"#000000\" font-family=\"Helvetica\" font-style=\"normal\" font-weight=\"bold\" font-size=\"216\" text-anchor=\"middle\">0</text>\n",
       "<!-- Text -->\n",
       "<text xml:space=\"preserve\" x=\"3600\" y=\"-135\" fill=\"#000000\" font-family=\"Helvetica\" font-style=\"normal\" font-weight=\"bold\" font-size=\"216\" text-anchor=\"middle\">C:E2</text>\n",
       "<!-- Text -->\n",
       "<text xml:space=\"preserve\" x=\"2250\" y=\"1200\" fill=\"#000000\" font-family=\"Helvetica\" font-style=\"normal\" font-weight=\"bold\" font-size=\"216\" text-anchor=\"middle\">C:He</text>\n",
       "<!-- Text -->\n",
       "<text xml:space=\"preserve\" x=\"2250\" y=\"6615\" fill=\"#000000\" font-family=\"Helvetica\" font-style=\"normal\" font-weight=\"bold\" font-size=\"216\" text-anchor=\"middle\">C:Hi</text>\n",
       "<!-- Text -->\n",
       "<text xml:space=\"preserve\" x=\"4950\" y=\"6600\" fill=\"#000000\" font-family=\"Helvetica\" font-style=\"normal\" font-weight=\"bold\" font-size=\"216\" text-anchor=\"middle\">C:Ei</text>\n",
       "<!-- Text -->\n",
       "<text xml:space=\"preserve\" x=\"4950\" y=\"1200\" fill=\"#000000\" font-family=\"Helvetica\" font-style=\"normal\" font-weight=\"bold\" font-size=\"216\" text-anchor=\"middle\">C:Ee</text>\n",
       "<!-- Line -->\n",
       "<polyline points=\" 1575,3825 3150,3825\" stroke=\"#0000ff\" stroke-width=\"8px\" stroke-dasharray=\"40 40\"/>\n",
       "<!-- Line -->\n",
       "<polyline points=\" 4050,3825 5625,3825\" stroke=\"#0000ff\" stroke-width=\"8px\" stroke-dasharray=\"40 40\"/>\n",
       "<!-- Line -->\n",
       "<polyline points=\" 3600,3600 3600,2700 3825,2925\" stroke=\"#000000\" stroke-width=\"15px\"/>\n",
       "<!-- Line -->\n",
       "<polyline points=\" 2250,2250 2250,1350 2475,1575\" stroke=\"#000000\" stroke-width=\"15px\"/>\n",
       "<!-- Line -->\n",
       "<polyline points=\" 2475,5175 3375,5175 3150,5400\" stroke=\"#000000\" stroke-width=\"15px\"/>\n",
       "<!-- Line -->\n",
       "<polyline points=\" 2250,5400 2250,6300 2475,6075\" stroke=\"#000000\" stroke-width=\"15px\"/>\n",
       "<!-- Line -->\n",
       "<polyline points=\" 3375,2475 2475,2475 2700,2700\" stroke=\"#000000\" stroke-width=\"15px\"/>\n",
       "<!-- Line -->\n",
       "<polyline points=\" 4950,5400 4950,6300 5175,6075\" stroke=\"#000000\" stroke-width=\"15px\"/>\n",
       "<!-- Line -->\n",
       "<polyline points=\" 4950,2250 4950,1350 5175,1575\" stroke=\"#000000\" stroke-width=\"15px\"/>\n",
       "<!-- Line -->\n",
       "<polyline points=\" 4725,5175 3825,5175 4050,5400\" stroke=\"#000000\" stroke-width=\"15px\"/>\n",
       "<!-- Line -->\n",
       "<polyline points=\" 3825,2475 4725,2475 4500,2700\" stroke=\"#000000\" stroke-width=\"15px\"/>\n",
       "<!-- Line -->\n",
       "<polyline points=\" 3375,2250 2475,2250 2700,2475\" stroke=\"#000000\" stroke-width=\"15px\"/>\n",
       "<!-- Line -->\n",
       "<polyline points=\" 3825,2250 4725,2250 4500,2475\" stroke=\"#000000\" stroke-width=\"15px\"/>\n",
       "<!-- Line -->\n",
       "<polyline points=\" 4725,5400 3825,5400 4050,5625\" stroke=\"#000000\" stroke-width=\"15px\"/>\n",
       "<!-- Line -->\n",
       "<polyline points=\" 2475,5400 3375,5400 3150,5625\" stroke=\"#000000\" stroke-width=\"15px\"/>\n",
       "<!-- Line -->\n",
       "<polyline points=\" 3600,4950 3600,4050 3825,4275\" stroke=\"#000000\" stroke-width=\"15px\"/>\n",
       "<!-- Line -->\n",
       "<polyline points=\" 3600,6300 3600,5400 3825,5625\" stroke=\"#000000\" stroke-width=\"15px\"/>\n",
       "<!-- Line -->\n",
       "<polyline points=\" 3600,2250 3600,1350 3825,1575\" stroke=\"#000000\" stroke-width=\"15px\"/>\n",
       "<!-- Line -->\n",
       "<polyline points=\" 3600,6750 3600,7650 3825,7425\" stroke=\"#000000\" stroke-width=\"15px\"/>\n",
       "<!-- Line -->\n",
       "<polyline points=\" 3600,900 3600,0 3825,225\" stroke=\"#000000\" stroke-width=\"15px\"/>\n",
       "</g>\n",
       "</svg>"
      ],
      "text/plain": [
       "<IPython.core.display.SVG object>"
      ]
     },
     "execution_count": 7,
     "metadata": {},
     "output_type": "execute_result"
    }
   ],
   "source": [
    "## Proton pump\n",
    "if TranslateSVG:\n",
    "    sbg.model('ProtonPump_abg.svg')\n",
    "import ProtonPump_abg\n",
    "disp.SVG('ProtonPump_abg.svg')"
   ]
  },
  {
   "cell_type": "markdown",
   "metadata": {},
   "source": [
    "## Stoichiometry"
   ]
  },
  {
   "cell_type": "code",
   "execution_count": 8,
   "metadata": {},
   "outputs": [],
   "source": [
    "## Stoichiometry\n",
    "linear = ['E1','E2','Ei','Ee']\n",
    "s = st.stoich(ProtonPump_abg.model(),linear=linear,quiet=quiet)\n",
    "chemostats = ['E1','E2','Ei','Ee','Hi','He']\n",
    "sc = st.statify(s,chemostats=chemostats)"
   ]
  },
  {
   "cell_type": "markdown",
   "metadata": {},
   "source": [
    "## Reactions\n",
    "These are automatically generated from the bond graph"
   ]
  },
  {
   "cell_type": "code",
   "execution_count": 9,
   "metadata": {
    "scrolled": false
   },
   "outputs": [
    {
     "data": {
      "text/latex": [
       "\\begin{align}\n",
       "\\ch{E1 + 2 Ei + 2 Hi &<>[ rp ] E2 + 2 Ee + 2 He }\n",
       "\\end{align}\n"
      ],
      "text/plain": [
       "<IPython.core.display.Latex object>"
      ]
     },
     "execution_count": 9,
     "metadata": {},
     "output_type": "execute_result"
    }
   ],
   "source": [
    "## Reactions\n",
    "disp.Latex(st.sprintrl(s,chemformula=True,all=True))"
   ]
  },
  {
   "cell_type": "code",
   "execution_count": 10,
   "metadata": {},
   "outputs": [
    {
     "data": {
      "text/latex": [
       "\\begin{align}\n",
       "v_{rp} &= \\kappa_{rp} \\left(- K_{He}^{2} x_{He}^{2} e^{\\frac{K_{E2} x_{E2} + 2 K_{Ee} x_{Ee}}{V_{N}}} + K_{Hi}^{2} x_{Hi}^{2} e^{\\frac{K_{E1} x_{E1} + 2 K_{Ei} x_{Ei}}{V_{N}}}\\right)\n",
       "\\end{align}\n"
      ],
      "text/plain": [
       "<IPython.core.display.Latex object>"
      ]
     },
     "execution_count": 10,
     "metadata": {},
     "output_type": "execute_result"
    }
   ],
   "source": [
    "## Flows\n",
    "disp.Latex(st.sprintvl(s))"
   ]
  },
  {
   "cell_type": "markdown",
   "metadata": {},
   "source": [
    "# Complex I\n",
    "The model of mitochondrial complex I comprises two modules: the redox reaction and the proton pump. "
   ]
  },
  {
   "cell_type": "code",
   "execution_count": 11,
   "metadata": {
    "scrolled": false
   },
   "outputs": [
    {
     "data": {
      "image/svg+xml": [
       "<svg xmlns=\"http://www.w3.org/2000/svg\" xmlns:xlink=\"http://www.w3.org/1999/xlink\" width=\"257pt\" height=\"371pt\" viewBox=\"4938 -912 4074 5874\">\n",
       "<g fill=\"none\">\n",
       "<!-- Line -->\n",
       "<rect x=\"4950\" y=\"-900\" width=\"4050\" height=\"5850\" rx=\"105\" stroke=\"#ffd600\" stroke-width=\"8px\"/>\n",
       "<!-- Text -->\n",
       "<text xml:space=\"preserve\" x=\"6750\" y=\"-585\" fill=\"#000000\" font-family=\"Helvetica\" font-style=\"normal\" font-weight=\"bold\" font-size=\"216\" text-anchor=\"middle\">C:E2</text>\n",
       "<!-- Text -->\n",
       "<text xml:space=\"preserve\" x=\"6750\" y=\"765\" fill=\"#000000\" font-family=\"Helvetica\" font-style=\"normal\" font-weight=\"bold\" font-size=\"216\" text-anchor=\"middle\">0</text>\n",
       "<!-- Text -->\n",
       "<text xml:space=\"preserve\" x=\"6750\" y=\"3465\" fill=\"#000000\" font-family=\"Helvetica\" font-style=\"normal\" font-weight=\"bold\" font-size=\"216\" text-anchor=\"middle\">0</text>\n",
       "<!-- Text -->\n",
       "<text xml:space=\"preserve\" x=\"6750\" y=\"4815\" fill=\"#000000\" font-family=\"Helvetica\" font-style=\"normal\" font-weight=\"bold\" font-size=\"216\" text-anchor=\"middle\">C:E1</text>\n",
       "<!-- Text -->\n",
       "<text xml:space=\"preserve\" x=\"8100\" y=\"2475\" fill=\"#ff0000\" font-family=\"Helvetica\" font-style=\"normal\" font-weight=\"bold\" font-size=\"168\" text-anchor=\"middle\">[E1]</text>\n",
       "<!-- Text -->\n",
       "<text xml:space=\"preserve\" x=\"8100\" y=\"1800\" fill=\"#ff0000\" font-family=\"Helvetica\" font-style=\"normal\" font-weight=\"bold\" font-size=\"168\" text-anchor=\"middle\">[E2]</text>\n",
       "<!-- Text -->\n",
       "<text xml:space=\"preserve\" x=\"5625\" y=\"2115\" fill=\"#000000\" font-family=\"Helvetica\" font-style=\"normal\" font-weight=\"bold\" font-size=\"216\" text-anchor=\"middle\">Redox:rr</text>\n",
       "<!-- Text -->\n",
       "<text xml:space=\"preserve\" x=\"7875\" y=\"2115\" fill=\"#000000\" font-family=\"Helvetica\" font-style=\"normal\" font-weight=\"bold\" font-size=\"216\" text-anchor=\"middle\">ProtonPump:pp</text>\n",
       "<!-- Text -->\n",
       "<text xml:space=\"preserve\" x=\"5400\" y=\"1800\" fill=\"#ff0000\" font-family=\"Helvetica\" font-style=\"normal\" font-weight=\"bold\" font-size=\"168\" text-anchor=\"middle\">[E2]</text>\n",
       "<!-- Text -->\n",
       "<text xml:space=\"preserve\" x=\"5400\" y=\"2475\" fill=\"#ff0000\" font-family=\"Helvetica\" font-style=\"normal\" font-weight=\"bold\" font-size=\"168\" text-anchor=\"middle\">[E1]</text>\n",
       "<!-- Line -->\n",
       "<polyline points=\" 6750,450 6750,-450 6975,-225\" stroke=\"#000000\" stroke-width=\"8px\"/>\n",
       "<!-- Line -->\n",
       "<polyline points=\" 6525,900 5625,1800 5850,1800\" stroke=\"#000000\" stroke-width=\"15px\"/>\n",
       "<!-- Line -->\n",
       "<polyline points=\" 6975,1125 6975,900 7875,1800\" stroke=\"#000000\" stroke-width=\"15px\"/>\n",
       "<!-- Line -->\n",
       "<polyline points=\" 5625,2250 6525,3150 6300,3150\" stroke=\"#000000\" stroke-width=\"15px\"/>\n",
       "<!-- Line -->\n",
       "<polyline points=\" 6975,3150 7875,2250 7875,2475\" stroke=\"#000000\" stroke-width=\"15px\"/>\n",
       "<!-- Line -->\n",
       "<polyline points=\" 6750,3600 6750,4500 6975,4275\" stroke=\"#000000\" stroke-width=\"8px\"/>\n",
       "</g>\n",
       "</svg>"
      ],
      "text/plain": [
       "<IPython.core.display.SVG object>"
      ]
     },
     "execution_count": 11,
     "metadata": {},
     "output_type": "execute_result"
    }
   ],
   "source": [
    "## Complex I\n",
    "if TranslateSVG:\n",
    "    sbg.model('ComplexI_abg.svg')\n",
    "import ComplexI_abg\n",
    "disp.SVG('ComplexI_abg.svg')"
   ]
  },
  {
   "cell_type": "markdown",
   "metadata": {},
   "source": [
    "## Stoichiometry"
   ]
  },
  {
   "cell_type": "code",
   "execution_count": 12,
   "metadata": {},
   "outputs": [
    {
     "name": "stdout",
     "output_type": "stream",
     "text": [
      "['E1', 'E2', 'pp_Ee', 'pp_Ei', 'pp_He', 'pp_Hi', 'rr_H', 'rr_NAD', 'rr_NADH', 'rr_Q', 'rr_QH2']\n"
     ]
    }
   ],
   "source": [
    "## Stoichiometry\n",
    "linear = ['E1','E2','pp_Ei','pp_Ee']\n",
    "s = st.stoich(ComplexI_abg.model(),linear=linear,quiet=quiet)\n",
    "print(s['species'])\n",
    "chemostats = ['pp_Ee', 'pp_Ei', 'pp_He', 'pp_Hi', 'rr_H', 'rr_NAD', 'rr_NADH', 'rr_Q', 'rr_QH2']\n",
    "sc = st.statify(s,chemostats=chemostats)\n",
    "#print(s['species'])\n",
    "#disp.Latex(st.sprint(s0,'K'))\n",
    "#print(st.sprints(s))"
   ]
  },
  {
   "cell_type": "markdown",
   "metadata": {},
   "source": [
    "## Reactions\n",
    "These are automatically generated from the bond graph"
   ]
  },
  {
   "cell_type": "code",
   "execution_count": 13,
   "metadata": {
    "scrolled": true
   },
   "outputs": [
    {
     "data": {
      "text/latex": [
       "\\begin{align}\n",
       "\\ch{E1 + 2 pp_Ei + 2 pp_Hi &<>[ pp_rp ] E2 + 2 pp_Ee + 2 pp_He }\\\\\n",
       "\\ch{rr_NADH &<>[ rr ] 2 E1 + rr_H + rr_NAD }\\\\\n",
       "\\ch{2 E2 + 2 rr_H + rr_Q &<>[ rr ] rr_QH2 }\n",
       "\\end{align}\n"
      ],
      "text/plain": [
       "<IPython.core.display.Latex object>"
      ]
     },
     "execution_count": 13,
     "metadata": {},
     "output_type": "execute_result"
    }
   ],
   "source": [
    "## Reactions\n",
    "disp.Latex(st.sprintrl(s,chemformula=True,all=True))"
   ]
  },
  {
   "cell_type": "code",
   "execution_count": 14,
   "metadata": {},
   "outputs": [
    {
     "data": {
      "text/latex": [
       "\\begin{align}\n",
       "v_{pp rp} &= \\kappa_{pp rp} \\left(- K_{pp He}^{2} x_{pp He}^{2} e^{\\frac{K_{E2} x_{E2} + 2 K_{pp Ee} x_{pp Ee}}{V_{N}}} + K_{pp Hi}^{2} x_{pp Hi}^{2} e^{\\frac{K_{E1} x_{E1} + 2 K_{pp Ei} x_{pp Ei}}{V_{N}}}\\right)\\\\\n",
       "v_{rr} &= \\kappa_{rr} \\left(- K_{rr H} K_{rr NAD} x_{rr H} x_{rr NAD} e^{\\frac{2 K_{E1} x_{E1}}{V_{N}}} + K_{rr NADH} x_{rr NADH}\\right)\\\\\n",
       "v_{rr} &= \\kappa_{rr} \\left(K_{rr H}^{2} K_{rr Q} x_{rr H}^{2} x_{rr Q} e^{\\frac{2 K_{E2} x_{E2}}{V_{N}}} - K_{rr QH2} x_{rr QH2}\\right)\n",
       "\\end{align}\n"
      ],
      "text/plain": [
       "<IPython.core.display.Latex object>"
      ]
     },
     "execution_count": 14,
     "metadata": {},
     "output_type": "execute_result"
    }
   ],
   "source": [
    "## Flows\n",
    "disp.Latex(st.sprintvl(s))"
   ]
  },
  {
   "cell_type": "code",
   "execution_count": 15,
   "metadata": {
    "scrolled": true
   },
   "outputs": [
    {
     "data": {
      "text/latex": [
       "\\begin{align}\n",
       "\\ch{4 pp_Ei + 4 pp_Hi + rr_H + rr_NADH + rr_Q &<>[ pr1 ] 4 pp_Ee + 4 pp_He + rr_NAD + rr_QH2 }\n",
       "\\end{align}\n"
      ],
      "text/plain": [
       "<IPython.core.display.Latex object>"
      ]
     },
     "execution_count": 15,
     "metadata": {},
     "output_type": "execute_result"
    }
   ],
   "source": [
    "## Path\n",
    "sp = st.path(s,sc)\n",
    "## Reactions\n",
    "disp.Latex(st.sprintrl(sp,chemformula=True,all=True))"
   ]
  }
 ],
 "metadata": {
  "kernelspec": {
   "display_name": "Python 3",
   "language": "python",
   "name": "python3"
  },
  "language_info": {
   "codemirror_mode": {
    "name": "ipython",
    "version": 3
   },
   "file_extension": ".py",
   "mimetype": "text/x-python",
   "name": "python",
   "nbconvert_exporter": "python",
   "pygments_lexer": "ipython3",
   "version": "3.7.6"
  },
  "toc": {
   "base_numbering": 1,
   "nav_menu": {},
   "number_sections": true,
   "sideBar": true,
   "skip_h1_title": false,
   "title_cell": "Table of Contents",
   "title_sidebar": "Contents",
   "toc_cell": false,
   "toc_position": {},
   "toc_section_display": true,
   "toc_window_display": false
  }
 },
 "nbformat": 4,
 "nbformat_minor": 2
}
